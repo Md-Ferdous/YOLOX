{
  "nbformat": 4,
  "nbformat_minor": 0,
  "metadata": {
    "colab": {
      "name": "low-light, haze, rain.ipynb",
      "provenance": []
    },
    "kernelspec": {
      "name": "python3",
      "display_name": "Python 3"
    },
    "language_info": {
      "name": "python"
    }
  },
  "cells": [
    {
      "cell_type": "code",
      "execution_count": null,
      "metadata": {
        "id": "NQhrd_Kp7BbD"
      },
      "outputs": [],
      "source": [
        "from google.colab import drive\n",
        "drive.mount('/content/drive')"
      ]
    },
    {
      "cell_type": "code",
      "source": [
        "import os\n",
        "from PIL import Image, ImageEnhance\n",
        "from glob import glob\n",
        "from matplotlib import cm\n",
        "import cv2\n",
        "import numpy as np"
      ],
      "metadata": {
        "id": "Tl7TNzp_7zEK"
      },
      "execution_count": null,
      "outputs": []
    },
    {
      "cell_type": "markdown",
      "source": [
        "**Low-light**"
      ],
      "metadata": {
        "id": "34hPYDy_7jrl"
      }
    },
    {
      "cell_type": "code",
      "source": [
        "\n",
        "i =0 \n",
        "#read the image\n",
        "for filename in glob.glob('/content/drive/MyDrive/dataset-combination/combination2/test-n/*.jpg'):\n",
        "  #print(filename)\n",
        "   i+= 1\n",
        "   im = Image.open(filename)\n",
        "  \n",
        "#image brightness enhancer\n",
        "   enhancer = ImageEnhance.Brightness(im)\n",
        "   #path = '/content/drive/MyDrive/dataset-combination/combination2/darkened image/'+'PPE_'+str(i)+'.jpg'\n",
        "#factor = 1 #gives original image\n",
        "#im_output = enhancer.enhance(factor)\n",
        "#im_output.save('original.jpg')\n",
        "   t = filename.split('/')\n",
        "   splitted_name = os.path.splitext(t[8])\n",
        "   path = '/content/drive/MyDrive/dataset-combination/combination2/darkened image/'+splitted_name[0]+'.jpg' \n",
        "   factor = 0.4 #darkens the image\n",
        "   im_output = enhancer.enhance(factor)\n",
        "   im_output.save(path)\n",
        "   #if (i>2):\n",
        "   #  break\n",
        "#factor = 1.5 #brightens the image\n",
        "#im_output = enhancer.enhance(factor)\n",
        "#im_output.save('brightened-image.jpg')"
      ],
      "metadata": {
        "id": "YxSrRM2J7Etg"
      },
      "execution_count": null,
      "outputs": []
    },
    {
      "cell_type": "markdown",
      "source": [
        "**Haze**"
      ],
      "metadata": {
        "id": "5KPUIBbA7ops"
      }
    },
    {
      "cell_type": "code",
      "source": [
        "def genHaze(in_img):\n",
        "    max_val_1 = np.max(in_img)\n",
        "    out_img = np.float64(in_img) + 100\n",
        "    max_val_2 = np.max(out_img)\n",
        "    out_img = np.uint8(out_img * max_val_1 / max_val_2)\n",
        "    return out_img"
      ],
      "metadata": {
        "id": "GtdVAMPX7Hnt"
      },
      "execution_count": null,
      "outputs": []
    },
    {
      "cell_type": "code",
      "source": [
        "def genNoisyHaze(in_img, noise_amplitude = 50, noise_offset = 100):\n",
        "    \"\"\"\n",
        "    noise_amplitude = Adjust this to vary the severity of noise in the haze. 50 by default\n",
        "    noise_offset = Adjust this to vary the brightness of noise in the haze. 100 by default\n",
        "    \"\"\"\n",
        "    noisy_img = noise_amplitude * np.random.rand(*in_img.shape[:2]) + noise_offset      # 2D\n",
        "    noisy_img = np.stack((noisy_img, noisy_img, noisy_img), axis = 2)                   # 3D\n",
        "\n",
        "    max_val_1 = np.max(in_img)\n",
        "    out_img = np.float64(in_img) + noisy_img\n",
        "    out_img = np.float64(in_img) + 250\n",
        "    max_val_2 = np.max(out_img)\n",
        "    out_img = np.uint8(out_img * max_val_1 / max_val_2)\n",
        "    return out_img"
      ],
      "metadata": {
        "id": "RRrBjElX7Lnk"
      },
      "execution_count": null,
      "outputs": []
    },
    {
      "cell_type": "code",
      "source": [
        "\n",
        "i = 0\n",
        "for filename in glob('/content/drive/MyDrive/dataset-combination/combination2/test-n/*.jpg'):\n",
        "   org_img = cv2.imread(filename)\n",
        "   org_img = cv2.cvtColor(org_img, cv2.COLOR_BGR2RGB)\n",
        "   #haze_img = genHaze(org_img)\n",
        "   noisy_haze_img = genNoisyHaze(org_img, noise_amplitude = 50, noise_offset = 100)\n",
        "   im = Image.fromarray(noisy_haze_img)\n",
        "   t = filename.split('/')\n",
        "   splitted_name = os.path.splitext(t[8])\n",
        "   path = '/content/drive/MyDrive/dataset-combination/combination2/hazy-image/'+splitted_name[0]+'.jpg' \n",
        "   #im.save('/content/ab/'+splitted_name[0]+'.jpg')\n",
        "   im.save(path)\n",
        "  # i+=1\n",
        "   #if (i>5):\n",
        "   # break"
      ],
      "metadata": {
        "id": "tgO9fqYl7N1c"
      },
      "execution_count": null,
      "outputs": []
    },
    {
      "cell_type": "markdown",
      "source": [
        "**Rain**"
      ],
      "metadata": {
        "id": "ef5o4wBo7r7s"
      }
    },
    {
      "cell_type": "code",
      "source": [
        "def generate_random_lines(imshape, slant, drop_length):    \n",
        "    drops = []    \n",
        "    for i in range(1000): ## If You want heavy rain, try increasing this        \n",
        "        if slant < 0:            \n",
        "            x = np.random.randint(slant, imshape[1])        \n",
        "        else:            \n",
        "            x = np.random.randint(0, imshape[1] - slant)        \n",
        "        y = np.random.randint(0, imshape[0] - drop_length)        \n",
        "        drops.append((x, y))    \n",
        "    return drops\n",
        "        \n",
        "def add_rain(image):\n",
        "    image = image.copy()\n",
        "    imshape = image.shape    \n",
        "    slant_extreme = 10    \n",
        "    slant = np.random.randint(-slant_extreme, slant_extreme)     \n",
        "    drop_length = int(imshape[0] * .02)\n",
        "    drop_width = int(imshape[1] * .0018)\n",
        "    if (drop_width == 0):\n",
        "       drop_width = 1\n",
        "   # print(drop_length)\n",
        "   # print(drop_width)\n",
        "\n",
        "    #drop_length = 20\n",
        "    #drop_width = 5\n",
        "    drop_color = (196, 211, 223) ## a shade of gray\n",
        "\n",
        "    rain_drops = generate_random_lines(imshape, slant, drop_length)        \n",
        "    for rain_drop in rain_drops:        \n",
        "        cv2.line(image, (rain_drop[0], rain_drop[1]), (rain_drop[0] + slant, rain_drop[1] + drop_length), drop_color, drop_width)    \n",
        "    \n",
        "    # kernelSize = min(imshape[:2])\n",
        "    # kernelSize = int(kernelSize * .0125)\n",
        "    # if kernelSize % 2 == 0: kernelSize += 1\n",
        "    # if kernelSize < 3: kernelSize = 3\n",
        "    kernelSize = 4\n",
        "    \n",
        "    image = cv2.blur(image, (kernelSize, kernelSize))     ## rainy view are blurry        \n",
        "    brightness_coefficient = 0.7      ## rainy days are usually shady     \n",
        "    image_HLS = cv2.cvtColor(image, cv2.COLOR_RGB2HLS)      ## Conversion to HLS    \n",
        "    image_HLS[:, :, 1] = image_HLS[:, :, 1] * brightness_coefficient    ## scale pixel values down for channel 1(Lightness)    \n",
        "    image_RGB = cv2.cvtColor(image_HLS, cv2.COLOR_HLS2RGB)  ## Conversion to RGB    \n",
        "    return image"
      ],
      "metadata": {
        "id": "x-njENp_7N6W"
      },
      "execution_count": null,
      "outputs": []
    },
    {
      "cell_type": "code",
      "source": [
        "\n",
        "i = 0\n",
        "for filename in glob('/content/drive/MyDrive/dataset-combination/combination2/test-n/*.jpg'):\n",
        "   org_img = cv2.imread(filename)\n",
        "   org_img = cv2.cvtColor(org_img, cv2.COLOR_BGR2RGB)\n",
        "   #haze_img = genHaze(org_img)\n",
        "   rainy_img = add_rain(org_img)\n",
        "   im = Image.fromarray(rainy_img)\n",
        "   t = filename.split('/')\n",
        "   splitted_name = os.path.splitext(t[8])\n",
        "   path = '/content/drive/MyDrive/dataset-combination/combination2/rainy-image/'+splitted_name[0]+'.jpg' \n",
        "   #im.save('/content/'+splitted_name[0]+'.jpg')\n",
        "   im.save(path)\n",
        "  # i+=1\n",
        " #  if (i>3):\n",
        "  #  break"
      ],
      "metadata": {
        "id": "91L1ezzu7UYF"
      },
      "execution_count": null,
      "outputs": []
    },
    {
      "cell_type": "code",
      "source": [
        "\n",
        "i = 0 \n",
        "for filename in glob.glob('/content/drive/MyDrive/dataset-combination/combination2/test-n/*.jpg'):\n",
        "    print(filename)\n",
        "    t = filename.split('/')\n",
        "    splitted_name = os.path.splitext(t[8])\n",
        "    print(splitted_name[0])\n",
        "    i+=1\n",
        "    if (i>2):\n",
        "      break"
      ],
      "metadata": {
        "id": "_u1qXAA97UbH"
      },
      "execution_count": null,
      "outputs": []
    }
  ]
}
